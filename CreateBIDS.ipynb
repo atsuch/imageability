{
 "cells": [
  {
   "cell_type": "code",
   "execution_count": 1,
   "metadata": {
    "collapsed": false
   },
   "outputs": [],
   "source": [
    "%load_ext autoreload\n",
    "%autoreload\n",
    "import os\n",
    "import glob\n",
    "import pandas as pd\n",
    "import numpy as np\n",
    "import subprocess as sp"
   ]
  },
  {
   "cell_type": "markdown",
   "metadata": {},
   "source": [
    "Make subject directories"
   ]
  },
  {
   "cell_type": "code",
   "execution_count": 3,
   "metadata": {
    "collapsed": true
   },
   "outputs": [],
   "source": [
    "sub_list = [\"101\",\"102\",\"103\",\"104\",\"106\",\"107\",\"108\",\"109\",\"111\",\"112\",\n",
    "            \"113\",\"114\",\"115\",\"116\",\"117\",\"118\",\"119\",\"120\",\"121\",\"122\",\n",
    "            \"123\",\"124\",\"125\",\"126\",\"127\",\"129\",\"130\",\"131\",\"133\",\"134\"]"
   ]
  },
  {
   "cell_type": "markdown",
   "metadata": {},
   "source": [
    "Make scan and behav subdirectories within subject folders"
   ]
  },
  {
   "cell_type": "code",
   "execution_count": 10,
   "metadata": {
    "collapsed": true
   },
   "outputs": [],
   "source": [
    "subfolders = [\"anat\", \"func\", \"fmap\", \"loc\", \"beh\"]"
   ]
  },
  {
   "cell_type": "code",
   "execution_count": 11,
   "metadata": {
    "collapsed": true
   },
   "outputs": [],
   "source": [
    "for n in sub_list:\n",
    "    sub_dir = \"sub-%s/\" % n\n",
    "    for s in subfolders:\n",
    "        os.makedirs(sub_dir + s)"
   ]
  },
  {
   "cell_type": "markdown",
   "metadata": {},
   "source": [
    "Create minimal dataset description"
   ]
  },
  {
   "cell_type": "code",
   "execution_count": 2,
   "metadata": {
    "collapsed": true
   },
   "outputs": [],
   "source": [
    "import json"
   ]
  },
  {
   "cell_type": "code",
   "execution_count": 13,
   "metadata": {
    "collapsed": true
   },
   "outputs": [],
   "source": [
    "description = {\"Name\": \"Imageability experiment\",\n",
    "               \"BIDSVersion\": \"1.0.0-rc4\",\n",
    "               \"Authors\": [\"Ami Tsuchida\", \"Brenda Milner\"]}"
   ]
  },
  {
   "cell_type": "code",
   "execution_count": 14,
   "metadata": {
    "collapsed": true
   },
   "outputs": [],
   "source": [
    "with open(\"dataset_description.json\", \"w\") as f:\n",
    "    json.dump(description, f)"
   ]
  },
  {
   "cell_type": "markdown",
   "metadata": {},
   "source": [
    "Create participants tsv"
   ]
  },
  {
   "cell_type": "code",
   "execution_count": 15,
   "metadata": {
    "collapsed": true
   },
   "outputs": [],
   "source": [
    "behav_dir = \"/home/ami/Documents/Work/imaging/imageab/pilot2/behav\"\n",
    "summary = \"Neuropsych.csv\""
   ]
  },
  {
   "cell_type": "code",
   "execution_count": 19,
   "metadata": {
    "collapsed": false
   },
   "outputs": [
    {
     "data": {
      "text/html": [
       "<div>\n",
       "<table border=\"1\" class=\"dataframe\">\n",
       "  <thead>\n",
       "    <tr style=\"text-align: right;\">\n",
       "      <th></th>\n",
       "      <th>Subject ID</th>\n",
       "      <th>Age</th>\n",
       "      <th>Sex</th>\n",
       "      <th>Education</th>\n",
       "      <th>Area of Study</th>\n",
       "      <th>Handedness</th>\n",
       "      <th>F</th>\n",
       "      <th>A</th>\n",
       "      <th>S</th>\n",
       "      <th>Animal</th>\n",
       "      <th>...</th>\n",
       "      <th>Full IQ</th>\n",
       "      <th>Right (/30)</th>\n",
       "      <th>Left(/30)</th>\n",
       "      <th>L</th>\n",
       "      <th>R</th>\n",
       "      <th>Eyes Open</th>\n",
       "      <th>Eyes Closed</th>\n",
       "      <th>Average</th>\n",
       "      <th>Verbal</th>\n",
       "      <th>Visual</th>\n",
       "    </tr>\n",
       "  </thead>\n",
       "  <tbody>\n",
       "    <tr>\n",
       "      <th>0</th>\n",
       "      <td>101</td>\n",
       "      <td>20</td>\n",
       "      <td>F</td>\n",
       "      <td>15</td>\n",
       "      <td>Cognitive Neuroscience</td>\n",
       "      <td>23</td>\n",
       "      <td>18</td>\n",
       "      <td>9</td>\n",
       "      <td>13</td>\n",
       "      <td>26</td>\n",
       "      <td>...</td>\n",
       "      <td>109</td>\n",
       "      <td>1</td>\n",
       "      <td>2</td>\n",
       "      <td>5</td>\n",
       "      <td>6</td>\n",
       "      <td>61</td>\n",
       "      <td>68</td>\n",
       "      <td>64.5</td>\n",
       "      <td>12</td>\n",
       "      <td>11</td>\n",
       "    </tr>\n",
       "    <tr>\n",
       "      <th>1</th>\n",
       "      <td>102</td>\n",
       "      <td>22</td>\n",
       "      <td>F</td>\n",
       "      <td>16</td>\n",
       "      <td>Psychology</td>\n",
       "      <td>49</td>\n",
       "      <td>14</td>\n",
       "      <td>14</td>\n",
       "      <td>14</td>\n",
       "      <td>19</td>\n",
       "      <td>...</td>\n",
       "      <td>92</td>\n",
       "      <td>2</td>\n",
       "      <td>1</td>\n",
       "      <td>11</td>\n",
       "      <td>13</td>\n",
       "      <td>58</td>\n",
       "      <td>69</td>\n",
       "      <td>63.5</td>\n",
       "      <td>17</td>\n",
       "      <td>13</td>\n",
       "    </tr>\n",
       "    <tr>\n",
       "      <th>2</th>\n",
       "      <td>103</td>\n",
       "      <td>19</td>\n",
       "      <td>F</td>\n",
       "      <td>13</td>\n",
       "      <td>Photography</td>\n",
       "      <td>23</td>\n",
       "      <td>8</td>\n",
       "      <td>9</td>\n",
       "      <td>14</td>\n",
       "      <td>19</td>\n",
       "      <td>...</td>\n",
       "      <td>88</td>\n",
       "      <td>0</td>\n",
       "      <td>0</td>\n",
       "      <td>2</td>\n",
       "      <td>2</td>\n",
       "      <td>69</td>\n",
       "      <td>62</td>\n",
       "      <td>65.5</td>\n",
       "      <td>1</td>\n",
       "      <td>11</td>\n",
       "    </tr>\n",
       "    <tr>\n",
       "      <th>3</th>\n",
       "      <td>104</td>\n",
       "      <td>28</td>\n",
       "      <td>M</td>\n",
       "      <td>20</td>\n",
       "      <td>Law</td>\n",
       "      <td>26</td>\n",
       "      <td>14</td>\n",
       "      <td>10</td>\n",
       "      <td>16</td>\n",
       "      <td>25</td>\n",
       "      <td>...</td>\n",
       "      <td>92</td>\n",
       "      <td>No data</td>\n",
       "      <td>No data</td>\n",
       "      <td>No data</td>\n",
       "      <td>No data</td>\n",
       "      <td>59</td>\n",
       "      <td>72</td>\n",
       "      <td>65.5</td>\n",
       "      <td>10</td>\n",
       "      <td>10</td>\n",
       "    </tr>\n",
       "    <tr>\n",
       "      <th>4</th>\n",
       "      <td>106</td>\n",
       "      <td>28</td>\n",
       "      <td>M</td>\n",
       "      <td>18</td>\n",
       "      <td>Biomedical Science</td>\n",
       "      <td>31</td>\n",
       "      <td>23</td>\n",
       "      <td>18</td>\n",
       "      <td>21</td>\n",
       "      <td>23</td>\n",
       "      <td>...</td>\n",
       "      <td>135</td>\n",
       "      <td>1</td>\n",
       "      <td>0</td>\n",
       "      <td>2</td>\n",
       "      <td>4</td>\n",
       "      <td>60</td>\n",
       "      <td>73</td>\n",
       "      <td>66.5</td>\n",
       "      <td>13</td>\n",
       "      <td>3</td>\n",
       "    </tr>\n",
       "  </tbody>\n",
       "</table>\n",
       "<p>5 rows × 36 columns</p>\n",
       "</div>"
      ],
      "text/plain": [
       "   Subject ID  Age Sex  Education           Area of Study  Handedness   F   A  \\\n",
       "0         101   20   F         15  Cognitive Neuroscience          23  18   9   \n",
       "1         102   22   F         16              Psychology          49  14  14   \n",
       "2         103   19   F         13             Photography          23   8   9   \n",
       "3         104   28   M         20                     Law          26  14  10   \n",
       "4         106   28   M         18      Biomedical Science          31  23  18   \n",
       "\n",
       "    S  Animal   ...    Full IQ  Right (/30)  Left(/30)         L        R  \\\n",
       "0  13      26   ...        109            1          2         5        6   \n",
       "1  14      19   ...         92            2          1        11       13   \n",
       "2  14      19   ...         88            0          0         2        2   \n",
       "3  16      25   ...         92      No data    No data  No data   No data   \n",
       "4  21      23   ...        135            1          0         2        4   \n",
       "\n",
       "   Eyes Open  Eyes Closed  Average  Verbal  Visual  \n",
       "0         61           68     64.5      12      11  \n",
       "1         58           69     63.5      17      13  \n",
       "2         69           62     65.5       1      11  \n",
       "3         59           72     65.5      10      10  \n",
       "4         60           73     66.5      13       3  \n",
       "\n",
       "[5 rows x 36 columns]"
      ]
     },
     "execution_count": 19,
     "metadata": {},
     "output_type": "execute_result"
    }
   ],
   "source": [
    "df = pd.read_csv(os.path.join(behav_dir, summary))\n",
    "df.head()"
   ]
  },
  {
   "cell_type": "code",
   "execution_count": 21,
   "metadata": {
    "collapsed": false
   },
   "outputs": [
    {
     "data": {
      "text/plain": [
       "array(['Subject ID', 'Age', 'Sex', 'Education', 'Area of Study',\n",
       "       'Handedness', 'F', 'A', 'S', 'Animal', 'BD', 'SI', 'DS', 'MR', 'AR',\n",
       "       'IN', 'CD', ' (SI+IN)*3/2', '(BD+MR)*3/2', 'DS+AR', 'CD*2',\n",
       "       'all*10/7', 'VCI', 'PRI', 'WMI', 'PSI', 'Full IQ', 'Right (/30)',\n",
       "       'Left(/30)', 'L', 'R', 'Eyes Open', 'Eyes Closed', 'Average',\n",
       "       'Verbal', 'Visual'], dtype=object)"
      ]
     },
     "execution_count": 21,
     "metadata": {},
     "output_type": "execute_result"
    }
   ],
   "source": [
    "df.columns.values"
   ]
  },
  {
   "cell_type": "code",
   "execution_count": 22,
   "metadata": {
    "collapsed": true
   },
   "outputs": [],
   "source": [
    "cols_to_keep = ['Subject ID', 'Age', 'Sex', 'Education', 'Area of Study',\n",
    "                'Handedness', 'F', 'A', 'S', 'Animal', 'BD', 'SI', 'DS', 'MR', 'AR',\n",
    "                'IN', 'CD', 'VCI', 'PRI', 'WMI', 'PSI', 'Full IQ']"
   ]
  },
  {
   "cell_type": "code",
   "execution_count": 27,
   "metadata": {
    "collapsed": true
   },
   "outputs": [],
   "source": [
    "col_names = [\"subject\", \"age\", \"sex\", \"edu\", \"field\", \"hand\",\n",
    "             \"fluency-f\", \"fluency-a\", \"fluency-s\", \"fluency-animal\",\n",
    "             \"wais-bd\", \"wais-si\", \"wais-ds\", \"wais-mr\", \"wais-ar\", \n",
    "             \"wais-in\", \"wais-cd\", \"wais-vci\", \"wais-pri\", \"wais-wmi\",\n",
    "             \"wais-psi\", \"wais-full\"]"
   ]
  },
  {
   "cell_type": "code",
   "execution_count": 28,
   "metadata": {
    "collapsed": false
   },
   "outputs": [
    {
     "data": {
      "text/html": [
       "<div>\n",
       "<table border=\"1\" class=\"dataframe\">\n",
       "  <thead>\n",
       "    <tr style=\"text-align: right;\">\n",
       "      <th></th>\n",
       "      <th>subject</th>\n",
       "      <th>age</th>\n",
       "      <th>sex</th>\n",
       "      <th>edu</th>\n",
       "      <th>field</th>\n",
       "      <th>hand</th>\n",
       "      <th>fluency-f</th>\n",
       "      <th>fluency-a</th>\n",
       "      <th>fluency-s</th>\n",
       "      <th>fluency-animal</th>\n",
       "      <th>...</th>\n",
       "      <th>wais-ds</th>\n",
       "      <th>wais-mr</th>\n",
       "      <th>wais-ar</th>\n",
       "      <th>wais-in</th>\n",
       "      <th>wais-cd</th>\n",
       "      <th>wais-vci</th>\n",
       "      <th>wais-pri</th>\n",
       "      <th>wais-wmi</th>\n",
       "      <th>wais-psi</th>\n",
       "      <th>wais-full</th>\n",
       "    </tr>\n",
       "  </thead>\n",
       "  <tbody>\n",
       "    <tr>\n",
       "      <th>0</th>\n",
       "      <td>101</td>\n",
       "      <td>20</td>\n",
       "      <td>F</td>\n",
       "      <td>15</td>\n",
       "      <td>Cognitive Neuroscience</td>\n",
       "      <td>23</td>\n",
       "      <td>18</td>\n",
       "      <td>9</td>\n",
       "      <td>13</td>\n",
       "      <td>26</td>\n",
       "      <td>...</td>\n",
       "      <td>8</td>\n",
       "      <td>12</td>\n",
       "      <td>11</td>\n",
       "      <td>12</td>\n",
       "      <td>13</td>\n",
       "      <td>111</td>\n",
       "      <td>110</td>\n",
       "      <td>97</td>\n",
       "      <td>117</td>\n",
       "      <td>109</td>\n",
       "    </tr>\n",
       "    <tr>\n",
       "      <th>1</th>\n",
       "      <td>102</td>\n",
       "      <td>22</td>\n",
       "      <td>F</td>\n",
       "      <td>16</td>\n",
       "      <td>Psychology</td>\n",
       "      <td>49</td>\n",
       "      <td>14</td>\n",
       "      <td>14</td>\n",
       "      <td>14</td>\n",
       "      <td>19</td>\n",
       "      <td>...</td>\n",
       "      <td>10</td>\n",
       "      <td>8</td>\n",
       "      <td>8</td>\n",
       "      <td>13</td>\n",
       "      <td>8</td>\n",
       "      <td>115</td>\n",
       "      <td>80</td>\n",
       "      <td>94</td>\n",
       "      <td>88</td>\n",
       "      <td>92</td>\n",
       "    </tr>\n",
       "    <tr>\n",
       "      <th>2</th>\n",
       "      <td>103</td>\n",
       "      <td>19</td>\n",
       "      <td>F</td>\n",
       "      <td>13</td>\n",
       "      <td>Photography</td>\n",
       "      <td>23</td>\n",
       "      <td>8</td>\n",
       "      <td>9</td>\n",
       "      <td>14</td>\n",
       "      <td>19</td>\n",
       "      <td>...</td>\n",
       "      <td>5</td>\n",
       "      <td>10</td>\n",
       "      <td>8</td>\n",
       "      <td>11</td>\n",
       "      <td>12</td>\n",
       "      <td>103</td>\n",
       "      <td>81</td>\n",
       "      <td>79</td>\n",
       "      <td>112</td>\n",
       "      <td>88</td>\n",
       "    </tr>\n",
       "    <tr>\n",
       "      <th>3</th>\n",
       "      <td>104</td>\n",
       "      <td>28</td>\n",
       "      <td>M</td>\n",
       "      <td>20</td>\n",
       "      <td>Law</td>\n",
       "      <td>26</td>\n",
       "      <td>14</td>\n",
       "      <td>10</td>\n",
       "      <td>16</td>\n",
       "      <td>25</td>\n",
       "      <td>...</td>\n",
       "      <td>12</td>\n",
       "      <td>7</td>\n",
       "      <td>9</td>\n",
       "      <td>11</td>\n",
       "      <td>11</td>\n",
       "      <td>98</td>\n",
       "      <td>80</td>\n",
       "      <td>102</td>\n",
       "      <td>106</td>\n",
       "      <td>92</td>\n",
       "    </tr>\n",
       "    <tr>\n",
       "      <th>4</th>\n",
       "      <td>106</td>\n",
       "      <td>28</td>\n",
       "      <td>M</td>\n",
       "      <td>18</td>\n",
       "      <td>Biomedical Science</td>\n",
       "      <td>31</td>\n",
       "      <td>23</td>\n",
       "      <td>18</td>\n",
       "      <td>21</td>\n",
       "      <td>23</td>\n",
       "      <td>...</td>\n",
       "      <td>18</td>\n",
       "      <td>11</td>\n",
       "      <td>18</td>\n",
       "      <td>17</td>\n",
       "      <td>17</td>\n",
       "      <td>127</td>\n",
       "      <td>104</td>\n",
       "      <td>146</td>\n",
       "      <td>138</td>\n",
       "      <td>135</td>\n",
       "    </tr>\n",
       "  </tbody>\n",
       "</table>\n",
       "<p>5 rows × 22 columns</p>\n",
       "</div>"
      ],
      "text/plain": [
       "   subject  age sex  edu                   field  hand  fluency-f  fluency-a  \\\n",
       "0      101   20   F   15  Cognitive Neuroscience    23         18          9   \n",
       "1      102   22   F   16              Psychology    49         14         14   \n",
       "2      103   19   F   13             Photography    23          8          9   \n",
       "3      104   28   M   20                     Law    26         14         10   \n",
       "4      106   28   M   18      Biomedical Science    31         23         18   \n",
       "\n",
       "   fluency-s  fluency-animal    ...      wais-ds  wais-mr  wais-ar  wais-in  \\\n",
       "0         13              26    ...            8       12       11       12   \n",
       "1         14              19    ...           10        8        8       13   \n",
       "2         14              19    ...            5       10        8       11   \n",
       "3         16              25    ...           12        7        9       11   \n",
       "4         21              23    ...           18       11       18       17   \n",
       "\n",
       "   wais-cd  wais-vci  wais-pri  wais-wmi  wais-psi  wais-full  \n",
       "0       13       111       110        97       117        109  \n",
       "1        8       115        80        94        88         92  \n",
       "2       12       103        81        79       112         88  \n",
       "3       11        98        80       102       106         92  \n",
       "4       17       127       104       146       138        135  \n",
       "\n",
       "[5 rows x 22 columns]"
      ]
     },
     "execution_count": 28,
     "metadata": {},
     "output_type": "execute_result"
    }
   ],
   "source": [
    "new_df = df[cols_to_keep]\n",
    "new_df.columns = col_names\n",
    "new_df.head()"
   ]
  },
  {
   "cell_type": "code",
   "execution_count": 29,
   "metadata": {
    "collapsed": false
   },
   "outputs": [],
   "source": [
    "new_df.to_csv(\"participants.tsv\", sep=\"\\t\", index=False)"
   ]
  },
  {
   "cell_type": "code",
   "execution_count": 31,
   "metadata": {
    "collapsed": false
   },
   "outputs": [],
   "source": [
    "participants_desc = {\"sex\": {\"LongName\": \"Biological sex\",\n",
    "                             \"Description\": \"Self-reported biological sex\",\n",
    "                             \"Levels\": {\"F\": \"female\", \"M\": \"male\"}},\n",
    "                     \"edu\": {\"LongName\": \"Educational level\",\n",
    "                             \"Description\": \"Self-reported educational level\",\n",
    "                             \"Units\": \"years\"},\n",
    "                     \"field\": {\"LongName\": \"field of study\",\n",
    "                               \"Description\": \"Self-reported area of study\"},\n",
    "                     \"hand\": {\"LongName\": \"Handedness\",\n",
    "                              \"Description\": \"In-house handedness questionnaire? Score ranges from 18-90, with lower value indicating strong R handedness\"},\n",
    "                     \"fluency-f\": {\"LongName\": \"Verbal fluency-letter F\",\n",
    "                                   \"Description\": \"# of words starting with the letter F that were generated in 1 minute\"},\n",
    "                     \"fluency-a\": {\"LongName\": \"Verbal fluency-letter A\",\n",
    "                                   \"Description\": \"# of words starting with the letter A that were generated in 1 minute\"},\n",
    "                     \"fluency-s\": {\"LongName\": \"Verbal fluency-letter S\",\n",
    "                                   \"Description\": \"# of words starting with the letter S that were generated in 1 minute\"},\n",
    "                     \"fluency-animal\": {\"LongName\": \"Semantic verbal fluency-animal\",\n",
    "                                        \"Description\": \"# of animals that were named in 1 minute\"},\n",
    "                     \"wais-bd\": {\"LongName\": \"WAIS-IV Block Design\",\n",
    "                                \"Description\": \"See WAIS-IV manual for description. Used for PRI calculation.\"},\n",
    "                     \"wais-si\": {\"LongName\": \"WAIS-IV Similarities\",\n",
    "                                 \"Description\": \"See WAIS-IV manual for description. Used for VCI calculation.\"},\n",
    "                     \"wais-ds\": {\"LongName\": \"WAIS-IV Digit Span\",\n",
    "                                 \"Description\": \"See WAIS-IV manual for description. Used for WMI calculation.\"},\n",
    "                     \"wais-mr\": {\"LongName\": \"WAIS-IV Matrix Reasoning\",\n",
    "                                 \"Description\": \"See WAIS-IV manual for description. Used for PRI calculation.\"},\n",
    "                     \"wais-ar\": {\"LongName\": \"WAIS-IV Arithmetic\",\n",
    "                                 \"Description\": \"See WAIS-IV manual for description. Used for WMI calculation.\"},\n",
    "                     \"wais-in\": {\"LongName\": \"WAIS-IV Information\",\n",
    "                                 \"Description\": \"See WAIS-IV manual for description. Used for VCI calculation.\"},\n",
    "                     \"wais-cd\": {\"LongName\": \"WAIS-IV Coding\",\n",
    "                                 \"Description\": \"See WAIS-IV manual for description. Used for PSI calculation.\"},\n",
    "                     \"wais-vci\": {\"LongName\": \"WAIS-IV Verbal Comprehension Index\",\n",
    "                                  \"Description\": \"See WAIS-IV manual for description. Summary Index estimated from SI and IN in this study.\"},\n",
    "                     \"wais-pri\": {\"LongName\": \"WAIS-IV Perceptual Reasoning Index\",\n",
    "                                  \"Description\": \"See WAIS-IV manual for description. Summary Index estimated from BD and MR in this study.\"},\n",
    "                     \"wais-wmi\": {\"LongName\": \"WAIS-IV Working Memory Index\",\n",
    "                                  \"Description\": \"See WAIS-IV manual for description. Summary Index estimated from DS and AR in this study.\"},\n",
    "                     \"wais-psi\": {\"LongName\": \"WAIS-IV Processing Speed Index\",\n",
    "                                  \"Description\": \"See WAIS-IV manual for description. Summary Index estimated from CD in this study.\"},\n",
    "                     \"wais-full\": {\"LongName\": \"WAIS-IV full IQ\",\n",
    "                                   \"Description\": \"See WAIS-IV manual for description. Estimated full IQ from wais sub-tests used in the study.\"}}"
   ]
  },
  {
   "cell_type": "code",
   "execution_count": 32,
   "metadata": {
    "collapsed": true
   },
   "outputs": [],
   "source": [
    "with open(\"participants.json\", \"w\") as f:\n",
    "    json.dump(participants_desc, f)"
   ]
  },
  {
   "cell_type": "markdown",
   "metadata": {
    "collapsed": true
   },
   "source": [
    "Make code directory to store codes"
   ]
  },
  {
   "cell_type": "code",
   "execution_count": 4,
   "metadata": {
    "collapsed": true
   },
   "outputs": [],
   "source": [
    "os.makedirs(\"code\")"
   ]
  },
  {
   "cell_type": "code",
   "execution_count": 10,
   "metadata": {
    "collapsed": false
   },
   "outputs": [],
   "source": [
    "with open(\"code/__init__.py\", \"w\"):\n",
    "    pass"
   ]
  },
  {
   "cell_type": "markdown",
   "metadata": {},
   "source": [
    "Make ds001 directory in RAW nifti dir and create scan_key.json"
   ]
  },
  {
   "cell_type": "code",
   "execution_count": 2,
   "metadata": {
    "collapsed": false
   },
   "outputs": [],
   "source": [
    "imaging_dir = \"/home/ami/Documents/Work/imaging\"\n",
    "RAWnifti_dir = os.path.join(imaging_dir, \"RAW_All\", \"nifti\")\n"
   ]
  },
  {
   "cell_type": "code",
   "execution_count": null,
   "metadata": {
    "collapsed": true
   },
   "outputs": [],
   "source": [
    "os.makedirs(os.path.join(RAWnifti_dir, \"ds001\"))"
   ]
  },
  {
   "cell_type": "code",
   "execution_count": 3,
   "metadata": {
    "collapsed": false
   },
   "outputs": [],
   "source": [
    "scan_key = {\"anat\": {\"protocol\": \"MPRAGEADNI\",\n",
    "                     \"timepoints\": 1,\n",
    "                     \"raw_nifti_name\": [\"sub-(sub)_(prot)(series)\"],\n",
    "                     \"bids_type\": \"anat\",\n",
    "                     \"bids_name\": [\"sub-(sub)_T1w\"]},\n",
    "            \"func-rest\": {\"protocol\": \"BOLDMOSAIC64_Resting\",\n",
    "                          \"timepoints\": 143,\n",
    "                          \"raw_nifti_name\": [\"sub-(sub)_(prot)(series)\"],\n",
    "                          \"bids_type\": \"func\",\n",
    "                          \"bids_name\": [\"sub-(sub)_task-rest_(run)_bold\"]},\n",
    "            \"func-task\": {\"protocol\": \"BOLDMOSAIC64_Task\",\n",
    "                          \"timepoints\": 610,\n",
    "                          \"raw_nifti_name\": [\"sub-(sub)_(prot)(series)\"],\n",
    "                          \"bids_type\": \"func\",\n",
    "                          \"bids_name\": [\"sub-(sub)_task-imag_bold\"]},\n",
    "            \"func-task1\": {\"protocol\": \"BOLDMOSAIC64_Task_1\",\n",
    "                          \"timepoints\": 305,\n",
    "                          \"raw_nifti_name\": [\"sub-(sub)_(prot)(series)\"],\n",
    "                          \"bids_type\": \"func\",\n",
    "                          \"bids_name\": [\"sub-(sub)_task-imag_run-01_bold\"]},\n",
    "            \"func-task2\": {\"protocol\": \"BOLDMOSAIC64_Task_2\",\n",
    "                          \"timepoints\": 305,\n",
    "                          \"raw_nifti_name\": [\"sub-(sub)_(prot)(series)\"],\n",
    "                          \"bids_type\": \"func\",\n",
    "                          \"bids_name\": [\"sub-(sub)_task-imag_run-02_bold\"]},\n",
    "            \"fmap-mag\": {\"protocol\": \"gre_field_mapping\",\n",
    "                         \"timepoints\": 2,\n",
    "                         \"raw_nifti_name\": [\"sub-(sub)_(prot)(series)\",\n",
    "                                            \"sub-(sub)_(prot)(series)_e2\"],\n",
    "                         \"bids_type\": \"fmap\",\n",
    "                         \"bids_name\": [\"sub-(sub)_(run)_magnitude1\",\n",
    "                                       \"sub-(sub)_(run)_magnitude2\"]},\n",
    "            \"fmap-phase\": {\"protocol\": \"gre_field_mapping\",\n",
    "                           \"timepoints\": 1,\n",
    "                           \"raw_nifti_name\": [\"sub-(sub)_(prot)(series)_e2\"],\n",
    "                           \"bids_type\": \"fmap\",\n",
    "                           \"bids_name\": [\"sub-(sub)_(run)_phasediff\"]},\n",
    "            }"
   ]
  },
  {
   "cell_type": "code",
   "execution_count": 4,
   "metadata": {
    "collapsed": false
   },
   "outputs": [],
   "source": [
    "from code.doit_bids_setup import get_nifti_names"
   ]
  },
  {
   "cell_type": "code",
   "execution_count": 18,
   "metadata": {
    "collapsed": false
   },
   "outputs": [
    {
     "name": "stderr",
     "output_type": "stream",
     "text": [
      "/home/ami/Documents/Work/imaging/ds001/ds001env/lib/python2.7/site-packages/ipykernel/__main__.py:2: ParserWarning: Falling back to the 'python' engine because the 'c' engine does not support regex separators (separators > 1 char and different from '\\s+' are interpreted as regex); you can avoid this warning by specifying engine='python'.\n",
      "  from ipykernel import kernelapp as app\n"
     ]
    },
    {
     "data": {
      "text/html": [
       "<div>\n",
       "<table border=\"1\" class=\"dataframe\">\n",
       "  <thead>\n",
       "    <tr style=\"text-align: right;\">\n",
       "      <th></th>\n",
       "      <th>0</th>\n",
       "      <th>1</th>\n",
       "      <th>2</th>\n",
       "      <th>3</th>\n",
       "      <th>4</th>\n",
       "      <th>5</th>\n",
       "      <th>6</th>\n",
       "      <th>7</th>\n",
       "    </tr>\n",
       "  </thead>\n",
       "  <tbody>\n",
       "    <tr>\n",
       "      <th>0</th>\n",
       "      <td>1</td>\n",
       "      <td>localizer-32ch</td>\n",
       "      <td>ok</td>\n",
       "      <td>512</td>\n",
       "      <td>512</td>\n",
       "      <td>5</td>\n",
       "      <td>1</td>\n",
       "      <td>91795557</td>\n",
       "    </tr>\n",
       "    <tr>\n",
       "      <th>1</th>\n",
       "      <td>2</td>\n",
       "      <td>SAGTRUFISP</td>\n",
       "      <td>ok</td>\n",
       "      <td>256</td>\n",
       "      <td>256</td>\n",
       "      <td>23</td>\n",
       "      <td>1</td>\n",
       "      <td>91795964</td>\n",
       "    </tr>\n",
       "    <tr>\n",
       "      <th>2</th>\n",
       "      <td>3</td>\n",
       "      <td>BOLDMOSAIC64_Resting</td>\n",
       "      <td>ok</td>\n",
       "      <td>64</td>\n",
       "      <td>64</td>\n",
       "      <td>42</td>\n",
       "      <td>143</td>\n",
       "      <td>91795980</td>\n",
       "    </tr>\n",
       "    <tr>\n",
       "      <th>3</th>\n",
       "      <td>4</td>\n",
       "      <td>BOLDMOSAIC64_Resting</td>\n",
       "      <td>ok</td>\n",
       "      <td>64</td>\n",
       "      <td>64</td>\n",
       "      <td>42</td>\n",
       "      <td>143</td>\n",
       "      <td>91795030</td>\n",
       "    </tr>\n",
       "    <tr>\n",
       "      <th>4</th>\n",
       "      <td>5</td>\n",
       "      <td>gre_field_mapping</td>\n",
       "      <td>ok</td>\n",
       "      <td>64</td>\n",
       "      <td>64</td>\n",
       "      <td>42</td>\n",
       "      <td>2</td>\n",
       "      <td>91790826</td>\n",
       "    </tr>\n",
       "  </tbody>\n",
       "</table>\n",
       "</div>"
      ],
      "text/plain": [
       "   0                     1   2    3    4   5    6         7\n",
       "0  1        localizer-32ch  ok  512  512   5    1  91795557\n",
       "1  2            SAGTRUFISP  ok  256  256  23    1  91795964\n",
       "2  3  BOLDMOSAIC64_Resting  ok   64   64  42  143  91795980\n",
       "3  4  BOLDMOSAIC64_Resting  ok   64   64  42  143  91795030\n",
       "4  5     gre_field_mapping  ok   64   64  42    2  91790826"
      ]
     },
     "execution_count": 18,
     "metadata": {},
     "output_type": "execute_result"
    }
   ],
   "source": [
    "scaninfo_txt = \"%s/ds001/sub-101/scaninfo.txt\" % RAWnifti_dir\n",
    "scaninfo = pd.read_csv(scaninfo_txt, header=None, sep='\\s*')\n",
    "scaninfo.head()"
   ]
  },
  {
   "cell_type": "code",
   "execution_count": 5,
   "metadata": {
    "collapsed": false
   },
   "outputs": [
    {
     "name": "stderr",
     "output_type": "stream",
     "text": [
      "code/doit_bids_setup.py:51: ParserWarning: Falling back to the 'python' engine because the 'c' engine does not support regex separators (separators > 1 char and different from '\\s+' are interpreted as regex); you can avoid this warning by specifying engine='python'.\n",
      "  scaninfo = pd.read_csv(scaninfo_txt, header=None, sep='\\s*')\n"
     ]
    },
    {
     "data": {
      "text/plain": [
       "{'sub-101_BOLDMOSAIC64_Resting10': 'sub-101_task-rest_run-04_bold',\n",
       " 'sub-101_BOLDMOSAIC64_Resting3': 'sub-101_task-rest_run-01_bold',\n",
       " 'sub-101_BOLDMOSAIC64_Resting4': 'sub-101_task-rest_run-02_bold',\n",
       " 'sub-101_BOLDMOSAIC64_Resting9': 'sub-101_task-rest_run-03_bold',\n",
       " 'sub-101_BOLDMOSAIC64_Task8': 'sub-101_task-imag_bold',\n",
       " 'sub-101_MPRAGEADNI7': 'sub-101_T1w',\n",
       " 'sub-101_gre_field_mapping11': 'sub-101_run-02_magnitude1',\n",
       " 'sub-101_gre_field_mapping11_e2': 'sub-101_run-02_magnitude2',\n",
       " 'sub-101_gre_field_mapping12_e2': 'sub-101_run-02_phasediff',\n",
       " 'sub-101_gre_field_mapping5': 'sub-101_run-01_magnitude1',\n",
       " 'sub-101_gre_field_mapping5_e2': 'sub-101_run-01_magnitude2',\n",
       " 'sub-101_gre_field_mapping6_e2': 'sub-101_run-01_phasediff'}"
      ]
     },
     "execution_count": 5,
     "metadata": {},
     "output_type": "execute_result"
    }
   ],
   "source": [
    "names = get_nifti_names(\"101\", scan_key)\n",
    "names"
   ]
  },
  {
   "cell_type": "code",
   "execution_count": 8,
   "metadata": {
    "collapsed": false
   },
   "outputs": [],
   "source": [
    "def replace_all(text, dic):\n",
    "    for i, j in dic.items():\n",
    "        text = text.replace(i, j)\n",
    "    return text"
   ]
  },
  {
   "cell_type": "code",
   "execution_count": 10,
   "metadata": {
    "collapsed": false
   },
   "outputs": [
    {
     "data": {
      "text/plain": [
       "'byebye earth!'"
      ]
     },
     "execution_count": 10,
     "metadata": {},
     "output_type": "execute_result"
    }
   ],
   "source": [
    "replace_all(\"hello world!\", {\"hello\":\"byebye\", \"world\":\"earth\", \"hi\": \"salut\"})"
   ]
  },
  {
   "cell_type": "code",
   "execution_count": 5,
   "metadata": {
    "collapsed": false
   },
   "outputs": [
    {
     "name": "stdout",
     "output_type": "stream",
     "text": [
      "dicom2nifti         \n",
      "dicom2nifti:101     Use dcm2niix to convert dicom to nifti\n",
      "dicom2nifti:102     Use dcm2niix to convert dicom to nifti\n",
      "dicom2nifti:103     Use dcm2niix to convert dicom to nifti\n",
      "dicom2nifti:104     Use dcm2niix to convert dicom to nifti\n",
      "dicom2nifti:106     Use dcm2niix to convert dicom to nifti\n",
      "dicom2nifti:107     Use dcm2niix to convert dicom to nifti\n",
      "dicom2nifti:108     Use dcm2niix to convert dicom to nifti\n",
      "dicom2nifti:109     Use dcm2niix to convert dicom to nifti\n",
      "dicom2nifti:111     Use dcm2niix to convert dicom to nifti\n",
      "dicom2nifti:112     Use dcm2niix to convert dicom to nifti\n",
      "dicom2nifti:113     Use dcm2niix to convert dicom to nifti\n",
      "dicom2nifti:114     Use dcm2niix to convert dicom to nifti\n",
      "dicom2nifti:115     Use dcm2niix to convert dicom to nifti\n",
      "dicom2nifti:116     Use dcm2niix to convert dicom to nifti\n",
      "dicom2nifti:117     Use dcm2niix to convert dicom to nifti\n",
      "dicom2nifti:118     Use dcm2niix to convert dicom to nifti\n",
      "dicom2nifti:119     Use dcm2niix to convert dicom to nifti\n",
      "dicom2nifti:120     Use dcm2niix to convert dicom to nifti\n",
      "dicom2nifti:121     Use dcm2niix to convert dicom to nifti\n",
      "dicom2nifti:122     Use dcm2niix to convert dicom to nifti\n",
      "dicom2nifti:123     Use dcm2niix to convert dicom to nifti\n",
      "dicom2nifti:124     Use dcm2niix to convert dicom to nifti\n",
      "dicom2nifti:125     Use dcm2niix to convert dicom to nifti\n",
      "dicom2nifti:126     Use dcm2niix to convert dicom to nifti\n",
      "dicom2nifti:127     Use dcm2niix to convert dicom to nifti\n",
      "dicom2nifti:129     Use dcm2niix to convert dicom to nifti\n",
      "dicom2nifti:130     Use dcm2niix to convert dicom to nifti\n",
      "dicom2nifti:131     Use dcm2niix to convert dicom to nifti\n",
      "dicom2nifti:133     Use dcm2niix to convert dicom to nifti\n",
      "dicom2nifti:134     Use dcm2niix to convert dicom to nifti\n",
      "get_scan_info       \n",
      "get_scan_info:101   Use unpacksdcmdir to get scan info\n",
      "get_scan_info:102   Use unpacksdcmdir to get scan info\n",
      "get_scan_info:103   Use unpacksdcmdir to get scan info\n",
      "get_scan_info:104   Use unpacksdcmdir to get scan info\n",
      "get_scan_info:106   Use unpacksdcmdir to get scan info\n",
      "get_scan_info:107   Use unpacksdcmdir to get scan info\n",
      "get_scan_info:108   Use unpacksdcmdir to get scan info\n",
      "get_scan_info:109   Use unpacksdcmdir to get scan info\n",
      "get_scan_info:111   Use unpacksdcmdir to get scan info\n",
      "get_scan_info:112   Use unpacksdcmdir to get scan info\n",
      "get_scan_info:113   Use unpacksdcmdir to get scan info\n",
      "get_scan_info:114   Use unpacksdcmdir to get scan info\n",
      "get_scan_info:115   Use unpacksdcmdir to get scan info\n",
      "get_scan_info:116   Use unpacksdcmdir to get scan info\n",
      "get_scan_info:117   Use unpacksdcmdir to get scan info\n",
      "get_scan_info:118   Use unpacksdcmdir to get scan info\n",
      "get_scan_info:119   Use unpacksdcmdir to get scan info\n",
      "get_scan_info:120   Use unpacksdcmdir to get scan info\n",
      "get_scan_info:121   Use unpacksdcmdir to get scan info\n",
      "get_scan_info:122   Use unpacksdcmdir to get scan info\n",
      "get_scan_info:123   Use unpacksdcmdir to get scan info\n",
      "get_scan_info:124   Use unpacksdcmdir to get scan info\n",
      "get_scan_info:125   Use unpacksdcmdir to get scan info\n",
      "get_scan_info:126   Use unpacksdcmdir to get scan info\n",
      "get_scan_info:127   Use unpacksdcmdir to get scan info\n",
      "get_scan_info:129   Use unpacksdcmdir to get scan info\n",
      "get_scan_info:130   Use unpacksdcmdir to get scan info\n",
      "get_scan_info:131   Use unpacksdcmdir to get scan info\n",
      "get_scan_info:133   Use unpacksdcmdir to get scan info\n",
      "get_scan_info:134   Use unpacksdcmdir to get scan info\n"
     ]
    },
    {
     "data": {
      "text/plain": [
       "0"
      ]
     },
     "execution_count": 5,
     "metadata": {},
     "output_type": "execute_result"
    }
   ],
   "source": [
    "doit_bids_setup.doit(['list', '--all'])"
   ]
  },
  {
   "cell_type": "code",
   "execution_count": 8,
   "metadata": {
    "collapsed": false
   },
   "outputs": [
    {
     "name": "stdout",
     "output_type": "stream",
     "text": [
      "dcm2niix -b y -z y -f first%p%s -o 'second' third\n"
     ]
    }
   ],
   "source": [
    "test = \"dcm2niix -b y -z y -f %s%%p%%s -o '%s' %s\" % (\"first\",\"second\", \"third\")\n",
    "print test\n"
   ]
  },
  {
   "cell_type": "code",
   "execution_count": 15,
   "metadata": {
    "collapsed": false
   },
   "outputs": [
    {
     "data": {
      "text/plain": [
       "0     101\n",
       "1     102\n",
       "2     103\n",
       "3     104\n",
       "4     106\n",
       "5     107\n",
       "6     108\n",
       "7     109\n",
       "8     111\n",
       "9     112\n",
       "10    113\n",
       "11    114\n",
       "12    115\n",
       "13    116\n",
       "14    117\n",
       "15    118\n",
       "16    119\n",
       "17    120\n",
       "18    121\n",
       "19    122\n",
       "20    123\n",
       "21    124\n",
       "22    125\n",
       "23    126\n",
       "24    127\n",
       "25    129\n",
       "26    130\n",
       "27    131\n",
       "28    133\n",
       "29    134\n",
       "Name: subject, dtype: int64"
      ]
     },
     "execution_count": 15,
     "metadata": {},
     "output_type": "execute_result"
    }
   ],
   "source": [
    "study_dir = \"%s/ds001/\" % imaging_dir\n",
    "participants_info = \"%s/participants.tsv\" % study_dir\n",
    "participants_df = pd.read_csv(participants_info, sep=\"\\t\")\n",
    "participants = participants_df.subject\n",
    "participants"
   ]
  },
  {
   "cell_type": "code",
   "execution_count": 29,
   "metadata": {
    "collapsed": false
   },
   "outputs": [
    {
     "name": "stdout",
     "output_type": "stream",
     "text": [
      "/home/ami/Documents/Work/imaging/RAW_All/dicom/101_20140110\n",
      "/home/ami/Documents/Work/imaging/RAW_All/dicom/102_20140113\n",
      "/home/ami/Documents/Work/imaging/RAW_All/dicom/103_20140108\n",
      "/home/ami/Documents/Work/imaging/RAW_All/dicom/104_20131218\n",
      "/home/ami/Documents/Work/imaging/RAW_All/dicom/106_20140108\n",
      "/home/ami/Documents/Work/imaging/RAW_All/dicom/107_20140109\n",
      "/home/ami/Documents/Work/imaging/RAW_All/dicom/108_20140206\n",
      "/home/ami/Documents/Work/imaging/RAW_All/dicom/109_20140207\n",
      "/home/ami/Documents/Work/imaging/RAW_All/dicom/111_20140321\n",
      "/home/ami/Documents/Work/imaging/RAW_All/dicom/112_20140324\n",
      "/home/ami/Documents/Work/imaging/RAW_All/dicom/113_20140314\n",
      "/home/ami/Documents/Work/imaging/RAW_All/dicom/114_20140319\n",
      "/home/ami/Documents/Work/imaging/RAW_All/dicom/115_20140324\n",
      "/home/ami/Documents/Work/imaging/RAW_All/dicom/116_20140321\n",
      "/home/ami/Documents/Work/imaging/RAW_All/dicom/117_20140320\n",
      "/home/ami/Documents/Work/imaging/RAW_All/dicom/118_20140327\n",
      "/home/ami/Documents/Work/imaging/RAW_All/dicom/119_20140402\n",
      "/home/ami/Documents/Work/imaging/RAW_All/dicom/120_20140312\n",
      "/home/ami/Documents/Work/imaging/RAW_All/dicom/121_20140327\n",
      "/home/ami/Documents/Work/imaging/RAW_All/dicom/122_20140410\n",
      "/home/ami/Documents/Work/imaging/RAW_All/dicom/123_20140709\n",
      "/home/ami/Documents/Work/imaging/RAW_All/dicom/124_20140730\n",
      "/home/ami/Documents/Work/imaging/RAW_All/dicom/125_20140731\n",
      "/home/ami/Documents/Work/imaging/RAW_All/dicom/126_20140714\n",
      "/home/ami/Documents/Work/imaging/RAW_All/dicom/127_20140714\n",
      "/home/ami/Documents/Work/imaging/RAW_All/dicom/129_20140721\n",
      "/home/ami/Documents/Work/imaging/RAW_All/dicom/130_20140722\n",
      "/home/ami/Documents/Work/imaging/RAW_All/dicom/131_20140729\n",
      "/home/ami/Documents/Work/imaging/RAW_All/dicom/133_20140729\n",
      "/home/ami/Documents/Work/imaging/RAW_All/dicom/134_20140808\n"
     ]
    }
   ],
   "source": [
    "for subj in participants:\n",
    "    src = glob.glob(\"%s%s*\" % (RAW_dir, subj))[0]\n",
    "    print src\n"
   ]
  },
  {
   "cell_type": "code",
   "execution_count": null,
   "metadata": {
    "collapsed": true
   },
   "outputs": [],
   "source": []
  }
 ],
 "metadata": {
  "kernelspec": {
   "display_name": "Python 2",
   "language": "python",
   "name": "python2"
  },
  "language_info": {
   "codemirror_mode": {
    "name": "ipython",
    "version": 2
   },
   "file_extension": ".py",
   "mimetype": "text/x-python",
   "name": "python",
   "nbconvert_exporter": "python",
   "pygments_lexer": "ipython2",
   "version": "2.7.3"
  }
 },
 "nbformat": 4,
 "nbformat_minor": 0
}
